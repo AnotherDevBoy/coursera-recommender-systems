{
 "cells": [
  {
   "cell_type": "code",
   "execution_count": 1,
   "metadata": {},
   "outputs": [],
   "source": [
    "import numpy as np\n",
    "import pandas as pd\n",
    "import matplotlib.pyplot as plt\n",
    "%matplotlib inline\n",
    "\n",
    "from lib.data import get_ratings, set_ratings, set_items\n",
    "from lib.utils import read_items_from_file, read_ratings_from_file, read_predictions_from_file"
   ]
  },
  {
   "cell_type": "code",
   "execution_count": 2,
   "metadata": {},
   "outputs": [],
   "source": [
    "ALGORITHMS = ['cbf', 'item-item', 'mf', 'perbias', 'user-user']\n",
    "\n",
    "ratings = read_ratings_from_file()\n",
    "set_ratings(ratings)\n",
    "ITEMS = read_items_from_file()\n",
    "set_items(ITEMS)\n",
    "\n",
    "width = 10 # inch\n",
    "aspect = 0.8 # height/width ratio\n",
    "height = width*aspect\n",
    "plt.rcParams['figure.figsize'] = [width, height]"
   ]
  },
  {
   "cell_type": "code",
   "execution_count": 18,
   "metadata": {},
   "outputs": [
    {
     "name": "stdout",
     "output_type": "stream",
     "text": [
      "Number of Users that were predicted: 100\n",
      "Number of Users that rated: 100\n",
      "Total number of users: 100\n",
      "Number of rated Items: 200\n",
      "Number of predicted Items: 200\n",
      "Empty ratings 18538\n",
      "Sparsity 0.9269\n"
     ]
    }
   ],
   "source": [
    "predicted_users = set()\n",
    "predicted_items = set()\n",
    "users_that_rated = set(ratings.columns[1:])\n",
    "\n",
    "for algorithm in ALGORITHMS:\n",
    "    predictions = read_predictions_from_file(algorithm)\n",
    "    predicted_users = predicted_users | set(predictions.columns[1:])\n",
    "    predicted_items = predicted_items | set(predictions['Item'])\n",
    "\n",
    "users = predicted_users | users_that_rated \n",
    "    \n",
    "print 'Number of Users that were predicted:', len(predicted_users)\n",
    "print 'Number of Users that rated:', len(users_that_rated)\n",
    "print 'Total number of users:', len(users)\n",
    "print 'Number of rated Items:', len(ITEMS)\n",
    "print 'Number of predicted Items:', len(predicted_items)\n",
    "\n",
    "empty_ratings = sum(list(ratings.isnull().sum()))\n",
    "print 'Empty ratings', empty_ratings\n",
    "print 'Sparsity', float(empty_ratings)/float((len(users)*len(ITEMS)))"
   ]
  },
  {
   "cell_type": "code",
   "execution_count": 4,
   "metadata": {},
   "outputs": [
    {
     "data": {
      "image/png": "[encoded data removed]",
      "text/plain": [
       "<Figure size 720x576 with 1 Axes>"
      ]
     },
     "metadata": {
      "needs_background": "light"
     },
     "output_type": "display_data"
    }
   ],
   "source": [
    "ratings_distribution = ratings.count()[1:]\n",
    "\n",
    "fig, ax = plt.subplots()\n",
    "    \n",
    "ax.bar(ratings_distribution, range(len(ratings_distribution)))\n",
    "\n",
    "ax.set_xlabel('Ratings group')\n",
    "ax.set_ylabel('# of users in the group')\n",
    "ax.set_title('# of users per rating group')\n",
    "ax.legend()\n",
    "\n",
    "plt.show()"
   ]
  },
  {
   "cell_type": "code",
   "execution_count": 5,
   "metadata": {},
   "outputs": [
    {
     "data": {
      "text/html": [
       "<div>\n",
       "<style scoped>\n",
       "    .dataframe tbody tr th:only-of-type {\n",
       "        vertical-align: middle;\n",
       "    }\n",
       "\n",
       "    .dataframe tbody tr th {\n",
       "        vertical-align: top;\n",
       "    }\n",
       "\n",
       "    .dataframe thead th {\n",
       "        text-align: right;\n",
       "    }\n",
       "</style>\n",
       "<table border=\"1\" class=\"dataframe\">\n",
       "  <thead>\n",
       "    <tr style=\"text-align: right;\">\n",
       "      <th></th>\n",
       "      <th>64</th>\n",
       "      <th>65</th>\n",
       "      <th>75</th>\n",
       "      <th>79</th>\n",
       "      <th>83</th>\n",
       "      <th>112</th>\n",
       "      <th>252</th>\n",
       "      <th>271</th>\n",
       "      <th>301</th>\n",
       "      <th>305</th>\n",
       "      <th>...</th>\n",
       "      <th>3411</th>\n",
       "      <th>3430</th>\n",
       "      <th>3524</th>\n",
       "      <th>3533</th>\n",
       "      <th>3625</th>\n",
       "      <th>3902</th>\n",
       "      <th>3991</th>\n",
       "      <th>4047</th>\n",
       "      <th>4342</th>\n",
       "      <th>4462</th>\n",
       "    </tr>\n",
       "  </thead>\n",
       "  <tbody>\n",
       "    <tr>\n",
       "      <th>Users Count</th>\n",
       "      <td>14</td>\n",
       "      <td>10</td>\n",
       "      <td>11</td>\n",
       "      <td>12</td>\n",
       "      <td>14</td>\n",
       "      <td>10</td>\n",
       "      <td>15</td>\n",
       "      <td>15</td>\n",
       "      <td>10</td>\n",
       "      <td>13</td>\n",
       "      <td>...</td>\n",
       "      <td>11</td>\n",
       "      <td>13</td>\n",
       "      <td>10</td>\n",
       "      <td>15</td>\n",
       "      <td>13</td>\n",
       "      <td>15</td>\n",
       "      <td>10</td>\n",
       "      <td>12</td>\n",
       "      <td>11</td>\n",
       "      <td>10</td>\n",
       "    </tr>\n",
       "  </tbody>\n",
       "</table>\n",
       "<p>1 rows × 100 columns</p>\n",
       "</div>"
      ],
      "text/plain": [
       "             64  65  75  79  83  112  252  271  301  305  ...   3411  3430  \\\n",
       "Users Count  14  10  11  12  14   10   15   15   10   13  ...     11    13   \n",
       "\n",
       "             3524  3533  3625  3902  3991  4047  4342  4462  \n",
       "Users Count    10    15    13    15    10    12    11    10  \n",
       "\n",
       "[1 rows x 100 columns]"
      ]
     },
     "execution_count": 5,
     "metadata": {},
     "output_type": "execute_result"
    }
   ],
   "source": [
    "df = pd.DataFrame(ratings_distribution).transpose()\n",
    "df = df.rename(index={0: 'Users Count'})\n",
    "df\n",
    "\n"
   ]
  },
  {
   "cell_type": "code",
   "execution_count": 6,
   "metadata": {},
   "outputs": [
    {
     "data": {
      "image/png": "[encoded data removed]",
      "text/plain": [
       "<Figure size 720x576 with 1 Axes>"
      ]
     },
     "metadata": {
      "needs_background": "light"
     },
     "output_type": "display_data"
    }
   ],
   "source": [
    "ratings\n",
    "\n",
    "ratings_distribution = dict(ratings.count()[1:])\n",
    "    \n",
    "fig, ax = plt.subplots()\n",
    "    \n",
    "ax.plot([int(item) for item in ratings_distribution.keys()], ratings_distribution.values(), 'ro')\n",
    "\n",
    "ax.set_xlabel('Item ID')\n",
    "ax.set_ylabel('# of Ratings')\n",
    "ax.set_title('# of Ratings per Item')\n",
    "ax.legend()\n",
    "\n",
    "plt.show()"
   ]
  },
  {
   "cell_type": "code",
   "execution_count": 7,
   "metadata": {},
   "outputs": [
    {
     "data": {
      "text/html": [
       "<div>\n",
       "<style scoped>\n",
       "    .dataframe tbody tr th:only-of-type {\n",
       "        vertical-align: middle;\n",
       "    }\n",
       "\n",
       "    .dataframe tbody tr th {\n",
       "        vertical-align: top;\n",
       "    }\n",
       "\n",
       "    .dataframe thead th {\n",
       "        text-align: right;\n",
       "    }\n",
       "</style>\n",
       "<table border=\"1\" class=\"dataframe\">\n",
       "  <thead>\n",
       "    <tr style=\"text-align: right;\">\n",
       "      <th></th>\n",
       "      <th>1006</th>\n",
       "      <th>1107</th>\n",
       "      <th>1112</th>\n",
       "      <th>112</th>\n",
       "      <th>1147</th>\n",
       "      <th>1346</th>\n",
       "      <th>1348</th>\n",
       "      <th>1351</th>\n",
       "      <th>1355</th>\n",
       "      <th>1520</th>\n",
       "      <th>...</th>\n",
       "      <th>791</th>\n",
       "      <th>804</th>\n",
       "      <th>83</th>\n",
       "      <th>851</th>\n",
       "      <th>853</th>\n",
       "      <th>889</th>\n",
       "      <th>892</th>\n",
       "      <th>907</th>\n",
       "      <th>971</th>\n",
       "      <th>993</th>\n",
       "    </tr>\n",
       "  </thead>\n",
       "  <tbody>\n",
       "    <tr>\n",
       "      <th>Item Count</th>\n",
       "      <td>14</td>\n",
       "      <td>15</td>\n",
       "      <td>12</td>\n",
       "      <td>10</td>\n",
       "      <td>28</td>\n",
       "      <td>17</td>\n",
       "      <td>15</td>\n",
       "      <td>16</td>\n",
       "      <td>17</td>\n",
       "      <td>10</td>\n",
       "      <td>...</td>\n",
       "      <td>14</td>\n",
       "      <td>12</td>\n",
       "      <td>14</td>\n",
       "      <td>14</td>\n",
       "      <td>15</td>\n",
       "      <td>12</td>\n",
       "      <td>32</td>\n",
       "      <td>12</td>\n",
       "      <td>14</td>\n",
       "      <td>11</td>\n",
       "    </tr>\n",
       "  </tbody>\n",
       "</table>\n",
       "<p>1 rows × 100 columns</p>\n",
       "</div>"
      ],
      "text/plain": [
       "            1006  1107  1112  112  1147  1346  1348  1351  1355  1520 ...   \\\n",
       "Item Count    14    15    12   10    28    17    15    16    17    10 ...    \n",
       "\n",
       "            791  804  83  851  853  889  892  907  971  993  \n",
       "Item Count   14   12  14   14   15   12   32   12   14   11  \n",
       "\n",
       "[1 rows x 100 columns]"
      ]
     },
     "execution_count": 7,
     "metadata": {},
     "output_type": "execute_result"
    }
   ],
   "source": [
    "df = pd.DataFrame.from_dict([ratings_distribution])\n",
    "df = df.rename(index={0: 'Item Count'})\n",
    "df"
   ]
  },
  {
   "cell_type": "code",
   "execution_count": 8,
   "metadata": {},
   "outputs": [
    {
     "ename": "NameError",
     "evalue": "name 'items_distribution' is not defined",
     "output_type": "error",
     "traceback": [
      "\u001b[1;31m---------------------------------------------------------------------------\u001b[0m",
      "\u001b[1;31mNameError\u001b[0m                                 Traceback (most recent call last)",
      "\u001b[1;32m<ipython-input-8-bd6fa4a34cb4>\u001b[0m in \u001b[0;36m<module>\u001b[1;34m()\u001b[0m\n\u001b[0;32m      1\u001b[0m \u001b[0mpopular_items\u001b[0m \u001b[1;33m=\u001b[0m \u001b[1;33m{\u001b[0m\u001b[1;33m}\u001b[0m\u001b[1;33m\u001b[0m\u001b[0m\n\u001b[0;32m      2\u001b[0m \u001b[1;33m\u001b[0m\u001b[0m\n\u001b[1;32m----> 3\u001b[1;33m \u001b[1;32mfor\u001b[0m \u001b[0mkey\u001b[0m\u001b[1;33m,\u001b[0m \u001b[0mvalue\u001b[0m \u001b[1;32min\u001b[0m \u001b[0mitems_distribution\u001b[0m\u001b[1;33m.\u001b[0m\u001b[0mitems\u001b[0m\u001b[1;33m(\u001b[0m\u001b[1;33m)\u001b[0m\u001b[1;33m:\u001b[0m\u001b[1;33m\u001b[0m\u001b[0m\n\u001b[0m\u001b[0;32m      4\u001b[0m     \u001b[1;32mif\u001b[0m \u001b[0mvalue\u001b[0m \u001b[1;33m>=\u001b[0m \u001b[1;36m15\u001b[0m\u001b[1;33m:\u001b[0m\u001b[1;33m\u001b[0m\u001b[0m\n\u001b[0;32m      5\u001b[0m         \u001b[0mpopular_items\u001b[0m\u001b[1;33m[\u001b[0m\u001b[0mkey\u001b[0m\u001b[1;33m]\u001b[0m \u001b[1;33m=\u001b[0m \u001b[0mvalue\u001b[0m\u001b[1;33m\u001b[0m\u001b[0m\n",
      "\u001b[1;31mNameError\u001b[0m: name 'items_distribution' is not defined"
     ]
    }
   ],
   "source": [
    "popular_items = {}\n",
    "\n",
    "for key, value in items_distribution.items():\n",
    "    if value >= 15:\n",
    "        popular_items[key] = value\n",
    "        \n",
    "fig, ax = plt.subplots()\n",
    "    \n",
    "ax.plot(popular_items.keys(), popular_items.values(), 'ro')\n",
    "\n",
    "ax.set_xlabel('Item ID')\n",
    "ax.set_ylabel('# of Ratings')\n",
    "ax.set_title('# of Ratings per Item')\n",
    "ax.legend()\n",
    "\n",
    "plt.show()"
   ]
  },
  {
   "cell_type": "code",
   "execution_count": null,
   "metadata": {},
   "outputs": [],
   "source": [
    "df = pd.DataFrame.from_dict([popular_items])\n",
    "df = df.rename(index={0: 'Popular Items Count'})\n",
    "df\n"
   ]
  },
  {
   "cell_type": "code",
   "execution_count": null,
   "metadata": {},
   "outputs": [],
   "source": []
  },
  {
   "cell_type": "code",
   "execution_count": null,
   "metadata": {},
   "outputs": [],
   "source": []
  }
 ],
 "metadata": {
  "kernelspec": {
   "display_name": "Python 2",
   "language": "python",
   "name": "python2"
  },
  "language_info": {
   "codemirror_mode": {
    "name": "ipython",
    "version": 2
   },
   "file_extension": ".py",
   "mimetype": "text/x-python",
   "name": "python",
   "nbconvert_exporter": "python",
   "pygments_lexer": "ipython2",
   "version": "2.7.15"
  }
 },
 "nbformat": 4,
 "nbformat_minor": 2
}
