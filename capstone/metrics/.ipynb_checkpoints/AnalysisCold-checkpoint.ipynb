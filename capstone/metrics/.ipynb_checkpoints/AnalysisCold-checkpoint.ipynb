{
 "cells": [
  {
   "cell_type": "code",
   "execution_count": 1,
   "metadata": {},
   "outputs": [],
   "source": [
    "import numpy as np\n",
    "import pandas as pd\n",
    "import matplotlib.pyplot as plt\n",
    "%matplotlib inline\n",
    "\n",
    "from lib.data import generate_top_n_for_all_users, get_ratings, get_predictions, get_top_n, get_relevant_items_for_user, set_items, get_users, set_ratings, set_predictions, get_cold_users, get_ratings_distribution\n",
    "\n",
    "# Metric Imports\n",
    "from lib.availability import availability_for_user\n",
    "from lib.coverage import is_user_covered, category_coverage_for_user\n",
    "from lib.diversity import intralist_price_diversity_for_user, intralist_category_diversity_for_user\n",
    "from lib.mrr import mrr_for_user\n",
    "from lib.precision import mean_average_precision_for_user\n",
    "from lib.rmse import rmse_for_user\n",
    "from lib.serendipity import serendipity_for_user\n",
    "from lib.ndcg import ndcg\n",
    "\n",
    "from lib.utils import read_items_from_file, read_ratings_from_file, read_predictions_from_file, calculate_statistics, generate_output_files"
   ]
  },
  {
   "cell_type": "code",
   "execution_count": 2,
   "metadata": {},
   "outputs": [],
   "source": [
    "ALGORITHMS = ['cbf', 'item-item', 'mf', 'perbias', 'user-user']\n",
    "\n",
    "SINGLEVALUE_METRICS = ['Coverage.Item', 'Coverage.User']\n",
    "MULTIVALUE_METRICS = ['Availability', 'MRR', 'Serendipity',\n",
    "                    'MAP', 'RMSE.Predict', 'RMSE.TopN', 'nDCG', 'Diversity.Price', 'Diversity.Category']\n",
    "\n",
    "ratings = read_ratings_from_file()\n",
    "set_ratings(ratings, 10)\n",
    "ITEMS = read_items_from_file()\n",
    "set_items(ITEMS)\n",
    "ALL_CATEGORIES = set(map(lambda x: x['Category'], ITEMS))"
   ]
  },
  {
   "cell_type": "code",
   "execution_count": 3,
   "metadata": {},
   "outputs": [],
   "source": [
    "results = {}\n",
    "\n",
    "for metric in (SINGLEVALUE_METRICS + MULTIVALUE_METRICS):\n",
    "  results[metric] = {}\n",
    "\n",
    "for algorithm in ALGORITHMS:\n",
    "  predictions = read_predictions_from_file(algorithm)\n",
    "  set_predictions(predictions)\n",
    "\n",
    "  users = get_cold_users()\n",
    "  generate_top_n_for_all_users(users)\n",
    "\n",
    "  items_recommended = set()\n",
    "  users_covered = 0.0\n",
    "\n",
    "  availability_values = []\n",
    "  mrr_values = []\n",
    "  serendipity_values = []\n",
    "  map_values = []\n",
    "  rmse_predict_values = []\n",
    "  rmse_top_values = []\n",
    "  ndcg_values = []\n",
    "  diversity_price_values = []\n",
    "  diversity_category_values = []\n",
    "\n",
    "  for user_id in users:\n",
    "    top_n = get_top_n(user_id, 5)\n",
    "    user_ratings = get_ratings(user_id)\n",
    "    user_relevant_items = get_relevant_items_for_user(user_id)\n",
    "    user_predictions = get_predictions(user_id)\n",
    "\n",
    "    # Coverage Metrics\n",
    "    items_recommended = items_recommended | set(top_n['Item'])\n",
    "\n",
    "    if is_user_covered(top_n):\n",
    "      users_covered += 1.0\n",
    "\n",
    "    # Other metrics\n",
    "    availability_values.append(availability_for_user(top_n))\n",
    "    mrr_values.append(mrr_for_user(top_n, user_relevant_items))\n",
    "    serendipity_values.append(serendipity_for_user(top_n, user_id))\n",
    "    map_values.append(mean_average_precision_for_user(top_n, user_id))\n",
    "    rmse_predict_values.append(rmse_for_user(user_id, user_ratings, user_predictions))\n",
    "    rmse_top_values.append(rmse_for_user(user_id, user_ratings, top_n))\n",
    "    ndcg_values.append(ndcg(user_id, top_n))\n",
    "    diversity_price_values.append(intralist_price_diversity_for_user(top_n))\n",
    "    diversity_category_values.append(intralist_category_diversity_for_user(top_n))\n",
    "\n",
    "  results['Availability'][algorithm] = calculate_statistics(availability_values, algorithm)\n",
    "  results['MRR'][algorithm] = calculate_statistics(mrr_values, algorithm)\n",
    "  results['Serendipity'][algorithm] = calculate_statistics(serendipity_values, algorithm)\n",
    "  results['MAP'][algorithm] = calculate_statistics(map_values, algorithm)\n",
    "  results['RMSE.Predict'][algorithm] = calculate_statistics(rmse_predict_values, algorithm)\n",
    "  results['RMSE.TopN'][algorithm] = calculate_statistics(rmse_top_values, algorithm)\n",
    "  results['nDCG'][algorithm] = calculate_statistics(ndcg_values, algorithm)\n",
    "  results['Diversity.Price'][algorithm] = calculate_statistics(diversity_price_values, algorithm)\n",
    "  results['Diversity.Category'][algorithm] = calculate_statistics(diversity_category_values, algorithm)\n",
    "\n",
    "  results['Coverage.Item'][algorithm] = [float(len(items_recommended))/float(len(ITEMS))]\n",
    "  results['Coverage.User'][algorithm] = [users_covered/float(len(users))]\n",
    "\n",
    "results['Availability'] = pd.concat([results['Availability'][algorithm] for algorithm in ALGORITHMS])\n",
    "results['MRR'] = pd.concat([results['MRR'][algorithm] for algorithm in ALGORITHMS])\n",
    "results['Serendipity'] = pd.concat([results['Serendipity'][algorithm] for algorithm in ALGORITHMS])\n",
    "results['MAP'] = pd.concat([results['MAP'][algorithm] for algorithm in ALGORITHMS])\n",
    "results['RMSE.Predict'] = pd.concat([results['RMSE.Predict'][algorithm] for algorithm in ALGORITHMS])\n",
    "results['RMSE.TopN'] = pd.concat([results['RMSE.TopN'][algorithm] for algorithm in ALGORITHMS])\n",
    "results['nDCG'] = pd.concat([results['nDCG'][algorithm] for algorithm in ALGORITHMS])\n",
    "results['Diversity.Price'] = pd.concat([results['Diversity.Price'][algorithm] for algorithm in ALGORITHMS])\n",
    "results['Diversity.Category'] = pd.concat([results['Diversity.Category'][algorithm] for algorithm in ALGORITHMS])"
   ]
  },
  {
   "cell_type": "code",
   "execution_count": 14,
   "metadata": {},
   "outputs": [
    {
     "data": {
      "image/png": "[encoded data removed]",
      "text/plain": [
       "<Figure size 432x288 with 1 Axes>"
      ]
     },
     "metadata": {
      "needs_background": "light"
     },
     "output_type": "display_data"
    }
   ],
   "source": [
    "distribution = get_ratings_distribution()\n",
    "\n",
    "plt.bar(distribution.keys(), distribution.values())\n",
    "plt.show()\n"
   ]
  },
  {
   "cell_type": "code",
   "execution_count": 17,
   "metadata": {},
   "outputs": [
    {
     "data": {
      "text/html": [
       "<div>\n",
       "<style scoped>\n",
       "    .dataframe tbody tr th:only-of-type {\n",
       "        vertical-align: middle;\n",
       "    }\n",
       "\n",
       "    .dataframe tbody tr th {\n",
       "        vertical-align: top;\n",
       "    }\n",
       "\n",
       "    .dataframe thead th {\n",
       "        text-align: right;\n",
       "    }\n",
       "</style>\n",
       "<table border=\"1\" class=\"dataframe\">\n",
       "  <thead>\n",
       "    <tr style=\"text-align: right;\">\n",
       "      <th></th>\n",
       "      <th>10</th>\n",
       "      <th>11</th>\n",
       "      <th>12</th>\n",
       "      <th>13</th>\n",
       "      <th>14</th>\n",
       "      <th>15</th>\n",
       "      <th>16</th>\n",
       "      <th>17</th>\n",
       "      <th>18</th>\n",
       "      <th>19</th>\n",
       "      <th>20</th>\n",
       "      <th>21</th>\n",
       "      <th>22</th>\n",
       "      <th>23</th>\n",
       "      <th>25</th>\n",
       "      <th>28</th>\n",
       "      <th>32</th>\n",
       "      <th>41</th>\n",
       "      <th>43</th>\n",
       "    </tr>\n",
       "  </thead>\n",
       "  <tbody>\n",
       "    <tr>\n",
       "      <th>Users Count</th>\n",
       "      <td>16</td>\n",
       "      <td>13</td>\n",
       "      <td>15</td>\n",
       "      <td>5</td>\n",
       "      <td>11</td>\n",
       "      <td>15</td>\n",
       "      <td>4</td>\n",
       "      <td>5</td>\n",
       "      <td>4</td>\n",
       "      <td>2</td>\n",
       "      <td>1</td>\n",
       "      <td>2</td>\n",
       "      <td>1</td>\n",
       "      <td>1</td>\n",
       "      <td>1</td>\n",
       "      <td>1</td>\n",
       "      <td>1</td>\n",
       "      <td>1</td>\n",
       "      <td>1</td>\n",
       "    </tr>\n",
       "  </tbody>\n",
       "</table>\n",
       "</div>"
      ],
      "text/plain": [
       "             10  11  12  13  14  15  16  17  18  19  20  21  22  23  25  28  \\\n",
       "Users Count  16  13  15   5  11  15   4   5   4   2   1   2   1   1   1   1   \n",
       "\n",
       "             32  41  43  \n",
       "Users Count   1   1   1  "
      ]
     },
     "execution_count": 17,
     "metadata": {},
     "output_type": "execute_result"
    }
   ],
   "source": [
    "df = pd.DataFrame.from_dict([distribution])\n",
    "df = df.rename(index={0: 'Users Count'})\n",
    "df"
   ]
  },
  {
   "cell_type": "code",
   "execution_count": null,
   "metadata": {},
   "outputs": [],
   "source": [
    "colors= ['g', 'b', 'r', 'y', 'purple']\n",
    "labels = ['Content Based Filtering', 'Item-Item CF', 'Matrix Factorization', 'Personalized Bias', 'User-User CB']\n",
    "\n",
    "width = 10 # inch\n",
    "aspect = 0.8 # height/width ratio\n",
    "height = width*aspect\n",
    "plt.rcParams['figure.figsize'] = [width, height]\n",
    "\n",
    "n_groups = 1\n",
    "index = np.arange(n_groups)\n",
    "bar_width = 0.35"
   ]
  },
  {
   "cell_type": "code",
   "execution_count": null,
   "metadata": {},
   "outputs": [],
   "source": [
    "metric = results['Availability']\n",
    "\n",
    "fig, ax = plt.subplots()\n",
    "\n",
    "for i in range(0, len(ALGORITHMS)):\n",
    "    algorithm = ALGORITHMS[i]\n",
    "    bar = ax.bar(index + i*bar_width, metric.loc[algorithm]['mean'], \n",
    "                 width=bar_width, yerr=metric.loc[algorithm]['std'], label=algorithm, tick_label='')\n",
    "    \n",
    "\n",
    "ax.set_xlabel('Algorithms')\n",
    "ax.set_ylabel('Availability')\n",
    "ax.set_title('Availability per Algorithm')\n",
    "ax.set_xticks(index + bar_width / 2)\n",
    "ax.legend()\n",
    "\n",
    "plt.show()"
   ]
  },
  {
   "cell_type": "code",
   "execution_count": null,
   "metadata": {},
   "outputs": [],
   "source": [
    "metric"
   ]
  },
  {
   "cell_type": "code",
   "execution_count": null,
   "metadata": {},
   "outputs": [],
   "source": [
    "metric = results['Serendipity']\n",
    "\n",
    "fig, ax = plt.subplots()\n",
    "\n",
    "for i in range(0, len(ALGORITHMS)):\n",
    "    algorithm = ALGORITHMS[i]\n",
    "    bar = ax.bar(index + i*bar_width, metric.loc[algorithm]['mean'], \n",
    "                 width=bar_width, yerr=metric.loc[algorithm]['std'], label=algorithm, tick_label='')\n",
    "    \n",
    "\n",
    "ax.set_xlabel('Algorithms')\n",
    "ax.set_ylabel('Serendipity')\n",
    "ax.set_title('Serendipity per Algorithm')\n",
    "ax.set_xticks(index + bar_width / 2)\n",
    "ax.legend()\n",
    "\n",
    "plt.show()"
   ]
  },
  {
   "cell_type": "code",
   "execution_count": null,
   "metadata": {},
   "outputs": [],
   "source": [
    "metric"
   ]
  },
  {
   "cell_type": "code",
   "execution_count": null,
   "metadata": {},
   "outputs": [],
   "source": [
    "metric = results['MAP']\n",
    "\n",
    "fig, ax = plt.subplots()\n",
    "\n",
    "for i in range(0, len(ALGORITHMS)):\n",
    "    algorithm = ALGORITHMS[i]\n",
    "    bar = ax.bar(index + i*bar_width, metric.loc[algorithm]['mean'], \n",
    "                 width=bar_width, yerr=metric.loc[algorithm]['std'], label=algorithm, tick_label='')\n",
    "    \n",
    "\n",
    "ax.set_xlabel('Algorithms')\n",
    "ax.set_ylabel('MAP')\n",
    "ax.set_title('MAP per Algorithm')\n",
    "ax.set_xticks(index + bar_width / 2)\n",
    "ax.legend()\n",
    "\n",
    "plt.show()"
   ]
  },
  {
   "cell_type": "code",
   "execution_count": null,
   "metadata": {},
   "outputs": [],
   "source": [
    "metric"
   ]
  },
  {
   "cell_type": "code",
   "execution_count": null,
   "metadata": {},
   "outputs": [],
   "source": [
    "metric = results['RMSE.Predict']\n",
    "\n",
    "fig, ax = plt.subplots()\n",
    "\n",
    "for i in range(0, len(ALGORITHMS)):\n",
    "    algorithm = ALGORITHMS[i]\n",
    "    bar = ax.bar(index + i*bar_width, metric.loc[algorithm]['mean'], \n",
    "                 width=bar_width, yerr=metric.loc[algorithm]['std'], label=algorithm, tick_label='')\n",
    "    \n",
    "\n",
    "ax.set_xlabel('Algorithms')\n",
    "ax.set_ylabel('RMSE.Predict')\n",
    "ax.set_title('RMSE.Predict per Algorithm')\n",
    "ax.set_xticks(index + bar_width / 2)\n",
    "ax.legend()\n",
    "\n",
    "plt.show()"
   ]
  },
  {
   "cell_type": "code",
   "execution_count": null,
   "metadata": {},
   "outputs": [],
   "source": [
    "metric"
   ]
  },
  {
   "cell_type": "code",
   "execution_count": null,
   "metadata": {},
   "outputs": [],
   "source": [
    "metric = results['RMSE.TopN']\n",
    "\n",
    "fig, ax = plt.subplots()\n",
    "\n",
    "for i in range(0, len(ALGORITHMS)):\n",
    "    algorithm = ALGORITHMS[i]\n",
    "    bar = ax.bar(index + i*bar_width, metric.loc[algorithm]['mean'], \n",
    "                 width=bar_width, yerr=metric.loc[algorithm]['std'], label=algorithm, tick_label='')\n",
    "    \n",
    "\n",
    "ax.set_xlabel('Algorithms')\n",
    "ax.set_ylabel('RMSE.TopN')\n",
    "ax.set_title('RMSE.TopN per Algorithm')\n",
    "ax.set_xticks(index + bar_width / 2)\n",
    "ax.legend()\n",
    "\n",
    "plt.show()"
   ]
  },
  {
   "cell_type": "code",
   "execution_count": null,
   "metadata": {},
   "outputs": [],
   "source": [
    "metric"
   ]
  },
  {
   "cell_type": "code",
   "execution_count": null,
   "metadata": {},
   "outputs": [],
   "source": [
    "metric = results['nDCG']\n",
    "\n",
    "fig, ax = plt.subplots()\n",
    "\n",
    "for i in range(0, len(ALGORITHMS)):\n",
    "    algorithm = ALGORITHMS[i]\n",
    "    bar = ax.bar(index + i*bar_width, metric.loc[algorithm]['mean'], \n",
    "                 width=bar_width, yerr=metric.loc[algorithm]['std'], label=algorithm, tick_label='')\n",
    "    \n",
    "\n",
    "ax.set_xlabel('Algorithms')\n",
    "ax.set_ylabel('nDCG')\n",
    "ax.set_title('nDCG per Algorithm')\n",
    "ax.set_xticks(index + bar_width / 2)\n",
    "ax.legend()\n",
    "\n",
    "plt.show()"
   ]
  },
  {
   "cell_type": "code",
   "execution_count": null,
   "metadata": {},
   "outputs": [],
   "source": [
    "metric"
   ]
  },
  {
   "cell_type": "code",
   "execution_count": null,
   "metadata": {},
   "outputs": [],
   "source": [
    "metric = results['Diversity.Price']\n",
    "\n",
    "fig, ax = plt.subplots()\n",
    "\n",
    "for i in range(0, len(ALGORITHMS)):\n",
    "    algorithm = ALGORITHMS[i]\n",
    "    bar = ax.bar(index + i*bar_width, metric.loc[algorithm]['mean'], \n",
    "                 width=bar_width, yerr=metric.loc[algorithm]['std'], label=algorithm, tick_label='')\n",
    "    \n",
    "\n",
    "ax.set_xlabel('Algorithms')\n",
    "ax.set_ylabel('Diversity.Price')\n",
    "ax.set_title('Diversity.Price per Algorithm')\n",
    "ax.set_xticks(index + bar_width / 2)\n",
    "ax.legend()\n",
    "\n",
    "plt.show()"
   ]
  },
  {
   "cell_type": "code",
   "execution_count": null,
   "metadata": {},
   "outputs": [],
   "source": [
    "metric"
   ]
  },
  {
   "cell_type": "code",
   "execution_count": null,
   "metadata": {},
   "outputs": [],
   "source": [
    "metric = results['Diversity.Category']\n",
    "\n",
    "fig, ax = plt.subplots()\n",
    "\n",
    "for i in range(0, len(ALGORITHMS)):\n",
    "    algorithm = ALGORITHMS[i]\n",
    "    bar = ax.bar(index + i*bar_width, metric.loc[algorithm]['mean'], \n",
    "                 width=bar_width, yerr=metric.loc[algorithm]['std'], label=algorithm, tick_label='')\n",
    "    \n",
    "\n",
    "ax.set_xlabel('Algorithms')\n",
    "ax.set_ylabel('Diversity.Category')\n",
    "ax.set_title('Diversity.Category per Algorithm')\n",
    "ax.set_xticks(index + bar_width / 2)\n",
    "ax.legend()\n",
    "\n",
    "plt.show()"
   ]
  },
  {
   "cell_type": "code",
   "execution_count": null,
   "metadata": {},
   "outputs": [],
   "source": [
    "metric"
   ]
  },
  {
   "cell_type": "code",
   "execution_count": null,
   "metadata": {},
   "outputs": [],
   "source": []
  }
 ],
 "metadata": {
  "kernelspec": {
   "display_name": "Python 2",
   "language": "python",
   "name": "python2"
  },
  "language_info": {
   "codemirror_mode": {
    "name": "ipython",
    "version": 2
   },
   "file_extension": ".py",
   "mimetype": "text/x-python",
   "name": "python",
   "nbconvert_exporter": "python",
   "pygments_lexer": "ipython2",
   "version": "2.7.15"
  }
 },
 "nbformat": 4,
 "nbformat_minor": 2
}
